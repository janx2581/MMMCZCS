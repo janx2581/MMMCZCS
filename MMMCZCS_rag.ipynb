{
  "cells": [
    {
      "cell_type": "markdown",
      "id": "91c998a5",
      "metadata": {
        "id": "91c998a5"
      },
      "source": [
        "<a href=\"https://colab.research.google.com/github/run-llama/llama_index/blob/main/docs/docs/examples/agent/multi_document_agents-v1.ipynb\" target=\"_parent\"><img src=\"https://colab.research.google.com/assets/colab-badge.svg\" alt=\"Open In Colab\"/></a>"
      ]
    },
    {
      "cell_type": "markdown",
      "id": "43497beb-817d-4366-9156-f4d7f0d44942",
      "metadata": {
        "id": "43497beb-817d-4366-9156-f4d7f0d44942"
      },
      "source": [
        "# Multi-Document Agents (V1)\n",
        "\n",
        "In this guide, you learn towards setting up a multi-document agent over the LlamaIndex documentation.\n",
        "\n",
        "This is an extension of V0 multi-document agents with the additional features:\n",
        "- Reranking during document (tool) retrieval\n",
        "- Query planning tool that the agent can use to plan\n",
        "\n",
        "\n",
        "We do this with the following architecture:\n",
        "\n",
        "- setup a \"document agent\" over each Document: each doc agent can do QA/summarization within its doc\n",
        "- setup a top-level agent over this set of document agents. Do tool retrieval and then do CoT over the set of tools to answer a question."
      ]
    },
    {
      "cell_type": "markdown",
      "id": "77ac7184",
      "metadata": {
        "id": "77ac7184"
      },
      "source": [
        "If you're opening this Notebook on colab, you will probably need to install LlamaIndex 🦙."
      ]
    },
    {
      "cell_type": "code",
      "execution_count": null,
      "id": "034a7661",
      "metadata": {
        "id": "034a7661"
      },
      "outputs": [],
      "source": [
        "%pip install llama-index-core\n",
        "%pip install llama-index-agent-openai\n",
        "%pip install llama-index-readers-file\n",
        "%pip install llama-index-postprocessor-cohere-rerank\n",
        "%pip install llama-index-llms-openai\n",
        "%pip install llama-index-embeddings-openai\n",
        "%pip install unstructured[html]\n",
        "! pip install nltk\n",
        "! pip install llama_index.readers.file\n",
        "!pip install llama-index-question-gen-openai\n",
        "!pip install PyMuPDF\n"
      ]
    },
    {
      "cell_type": "code",
      "execution_count": 2,
      "id": "1f0e47ac-ec6d-48eb-93a3-0e1fcab22112",
      "metadata": {
        "id": "1f0e47ac-ec6d-48eb-93a3-0e1fcab22112"
      },
      "outputs": [],
      "source": [
        "%load_ext autoreload\n",
        "%autoreload 2"
      ]
    },
    {
      "cell_type": "markdown",
      "id": "9be00aba-b6c5-4940-9825-81c5d2cd2f0b",
      "metadata": {
        "id": "9be00aba-b6c5-4940-9825-81c5d2cd2f0b"
      },
      "source": [
        "## Setup and Download Data\n",
        "\n",
        "In this section, we'll load in the LlamaIndex documentation."
      ]
    },
    {
      "cell_type": "code",
      "execution_count": 2,
      "id": "49893d69-c106-4169-92c3-6b5b751066e9",
      "metadata": {
        "id": "49893d69-c106-4169-92c3-6b5b751066e9"
      },
      "outputs": [],
      "source": []
    },
    {
      "cell_type": "code",
      "source": [
        "from google.colab import drive\n",
        "drive.mount('/content/drive')\n"
      ],
      "metadata": {
        "colab": {
          "base_uri": "https://localhost:8080/"
        },
        "id": "8Kw4jp1_8mqp",
        "outputId": "a646f7b6-a82d-47a8-f367-a7ea7c0f7d7b"
      },
      "id": "8Kw4jp1_8mqp",
      "execution_count": 3,
      "outputs": [
        {
          "output_type": "stream",
          "name": "stdout",
          "text": [
            "Mounted at /content/drive\n"
          ]
        }
      ]
    },
    {
      "cell_type": "code",
      "source": [
        "import nltk\n",
        "nltk.download('averaged_perceptron_tagger')\n"
      ],
      "metadata": {
        "colab": {
          "base_uri": "https://localhost:8080/"
        },
        "id": "KTZEBDt3-fW9",
        "outputId": "a0b17ce6-f049-44c5-8a71-2ca65d662bdf"
      },
      "id": "KTZEBDt3-fW9",
      "execution_count": 4,
      "outputs": [
        {
          "output_type": "stream",
          "name": "stderr",
          "text": [
            "[nltk_data] Downloading package averaged_perceptron_tagger to\n",
            "[nltk_data]     /root/nltk_data...\n",
            "[nltk_data]   Unzipping taggers/averaged_perceptron_tagger.zip.\n"
          ]
        },
        {
          "output_type": "execute_result",
          "data": {
            "text/plain": [
              "True"
            ]
          },
          "metadata": {},
          "execution_count": 4
        }
      ]
    },
    {
      "cell_type": "code",
      "execution_count": 5,
      "id": "c661cb62-1e18-410c-bc2e-e707b66596a3",
      "metadata": {
        "id": "c661cb62-1e18-410c-bc2e-e707b66596a3"
      },
      "outputs": [],
      "source": [
        "from llama_index.readers.file import UnstructuredReader\n",
        "\n",
        "reader = UnstructuredReader()"
      ]
    },
    {
      "cell_type": "code",
      "source": [
        "from pathlib import Path\n",
        "\n",
        "# Path to your PDF files\n",
        "pdf_files_path = Path(\"/content/drive/MyDrive/MMMCZCS\")\n",
        "\n",
        "# Gathering all PDF files\n",
        "all_pdf_files = list(pdf_files_path.rglob(\"*.pdf\"))\n",
        "\n",
        "print(f\"Total PDF files found: {len(all_pdf_files)}\")"
      ],
      "metadata": {
        "colab": {
          "base_uri": "https://localhost:8080/"
        },
        "id": "3QgTYHin-TbB",
        "outputId": "4473254a-2d3a-4d60-d12a-b40b68e2b4b0"
      },
      "id": "3QgTYHin-TbB",
      "execution_count": 8,
      "outputs": [
        {
          "output_type": "stream",
          "name": "stdout",
          "text": [
            "Total PDF files found: 3\n"
          ]
        }
      ]
    },
    {
      "cell_type": "code",
      "source": [
        "from llama_index.core import Document\n",
        "import fitz  # PyMuPDF\n",
        "\n",
        "\n",
        "\n",
        "# TODO: set to higher value if you want more docs\n",
        "doc_limit = 30\n",
        "\n",
        "\n",
        "\n",
        "docs = []\n",
        "for idx, pdf_path in enumerate(all_pdf_files):\n",
        "    if idx >= doc_limit:  # Adjusted to >= to process exactly doc_limit files\n",
        "        break\n",
        "    print(f\"Processing file {idx+1}/{min(len(all_pdf_files), doc_limit)}: {pdf_path}\")\n",
        "\n",
        "    # Opening the PDF file\n",
        "    with fitz.open(pdf_path) as doc:\n",
        "        text = \"\"\n",
        "        for page in doc:\n",
        "            text += page.get_text() + \"\\n\\n\"  # Extracting text from each page\n",
        "\n",
        "    # Creating Document\n",
        "    loaded_doc = Document(\n",
        "        text=text,\n",
        "        metadata={\"path\": str(pdf_path)},\n",
        "    )\n",
        "    docs.append(loaded_doc)\n",
        "\n",
        "print(f\"Processed {len(docs)} documents.\")\n",
        "\n",
        "\n",
        "\n"
      ],
      "metadata": {
        "colab": {
          "base_uri": "https://localhost:8080/"
        },
        "id": "aDFwEJnj-n5o",
        "outputId": "17152ede-33a2-4726-e30a-9e6051562cc1"
      },
      "id": "aDFwEJnj-n5o",
      "execution_count": 28,
      "outputs": [
        {
          "output_type": "stream",
          "name": "stdout",
          "text": [
            "Processing file 1/3: /content/drive/MyDrive/MMMCZCS/LCA_Calculating_GHG_Intensity.pdf\n",
            "Processing file 2/3: /content/drive/MyDrive/MMMCZCS/Implications_2023_IMO_GHG_Strategy.pdf\n",
            "Processing file 3/3: /content/drive/MyDrive/MMMCZCS/Assessing_impacts_EU_and_US_policies.pdf\n",
            "Processed 3 documents.\n"
          ]
        }
      ]
    },
    {
      "cell_type": "markdown",
      "id": "6189aaf4-2eb7-40bc-9e83-79ce4f221b4b",
      "metadata": {
        "id": "6189aaf4-2eb7-40bc-9e83-79ce4f221b4b"
      },
      "source": [
        "Define Global LLM + Embeddings"
      ]
    },
    {
      "cell_type": "code",
      "execution_count": 11,
      "id": "4e56afdc",
      "metadata": {
        "id": "4e56afdc"
      },
      "outputs": [],
      "source": [
        "import os\n",
        "\n",
        "os.environ[\"OPENAI_API_KEY\"] = \"key\"\n",
        "\n",
        "import nest_asyncio\n",
        "\n",
        "nest_asyncio.apply()"
      ]
    },
    {
      "cell_type": "code",
      "execution_count": 12,
      "id": "dd6e5e48-91b9-4701-a85d-d98c92323350",
      "metadata": {
        "id": "dd6e5e48-91b9-4701-a85d-d98c92323350"
      },
      "outputs": [],
      "source": [
        "from llama_index.llms.openai import OpenAI\n",
        "from llama_index.embeddings.openai import OpenAIEmbedding\n",
        "from llama_index.core import Settings\n",
        "\n",
        "llm = OpenAI(model=\"gpt-3.5-turbo\")\n",
        "Settings.llm = llm\n",
        "Settings.embed_model = OpenAIEmbedding(\n",
        "    model=\"text-embedding-3-small\", embed_batch_size=256\n",
        ")"
      ]
    },
    {
      "cell_type": "markdown",
      "id": "4eeef31a-fc25-4367-a5ba-945f81d04cf9",
      "metadata": {
        "id": "4eeef31a-fc25-4367-a5ba-945f81d04cf9"
      },
      "source": [
        "## Building Multi-Document Agents\n",
        "\n",
        "In this section we show you how to construct the multi-document agent. We first build a document agent for each document, and then define the top-level parent agent with an object index."
      ]
    },
    {
      "cell_type": "markdown",
      "id": "976cd798-2e8d-474c-922a-51b12c5c6f36",
      "metadata": {
        "id": "976cd798-2e8d-474c-922a-51b12c5c6f36"
      },
      "source": [
        "### Build Document Agent for each Document\n",
        "\n",
        "In this section we define \"document agents\" for each document.\n",
        "\n",
        "We define both a vector index (for semantic search) and summary index (for summarization) for each document. The two query engines are then converted into tools that are passed to an OpenAI function calling agent.\n",
        "\n",
        "This document agent can dynamically choose to perform semantic search or summarization within a given document.\n",
        "\n",
        "We create a separate document agent for each city."
      ]
    },
    {
      "cell_type": "code",
      "execution_count": 84,
      "id": "eacdf3a7-cfe3-4c2b-9037-b28a065ed148",
      "metadata": {
        "id": "eacdf3a7-cfe3-4c2b-9037-b28a065ed148"
      },
      "outputs": [],
      "source": [
        "from llama_index.agent.openai import OpenAIAgent\n",
        "from llama_index.core import (\n",
        "    load_index_from_storage,\n",
        "    StorageContext,\n",
        "    VectorStoreIndex,\n",
        ")\n",
        "from llama_index.core import SummaryIndex\n",
        "from llama_index.core.tools import QueryEngineTool, ToolMetadata\n",
        "from llama_index.core.node_parser import SentenceSplitter\n",
        "import os\n",
        "from tqdm.notebook import tqdm\n",
        "import pickle\n",
        "\n",
        "\n",
        "async def build_agent_per_doc(nodes, file_base):\n",
        "    print(file_base)\n",
        "\n",
        "    vi_out_path = f\"./data/llamaindex_docs/{file_base}\"\n",
        "    summary_out_path = f\"./data/llamaindex_docs/{file_base}_summary.pkl\"\n",
        "    if not os.path.exists(vi_out_path):\n",
        "        Path(\"./data/llamaindex_docs/\").mkdir(parents=True, exist_ok=True)\n",
        "        # build vector index\n",
        "        vector_index = VectorStoreIndex(nodes)\n",
        "        vector_index.storage_context.persist(persist_dir=vi_out_path)\n",
        "    else:\n",
        "        vector_index = load_index_from_storage(\n",
        "            StorageContext.from_defaults(persist_dir=vi_out_path),\n",
        "        )\n",
        "\n",
        "    # build summary index\n",
        "    summary_index = SummaryIndex(nodes)\n",
        "\n",
        "    # define query engines\n",
        "    vector_query_engine = vector_index.as_query_engine(llm=llm)\n",
        "    summary_query_engine = summary_index.as_query_engine(\n",
        "        response_mode=\"tree_summarize\", llm=llm\n",
        "    )\n",
        "\n",
        "    # extract a summary\n",
        "    if not os.path.exists(summary_out_path):\n",
        "        Path(summary_out_path).parent.mkdir(parents=True, exist_ok=True)\n",
        "        summary = str(\n",
        "            await summary_query_engine.aquery(\n",
        "                \"Extract a concise 3-4 line summary of this document\"\n",
        "            )\n",
        "        )\n",
        "        pickle.dump(summary, open(summary_out_path, \"wb\"))\n",
        "    else:\n",
        "        summary = pickle.load(open(summary_out_path, \"rb\"))\n",
        "\n",
        "    # define tools\n",
        "    query_engine_tools = [\n",
        "        QueryEngineTool(\n",
        "            query_engine=vector_query_engine,\n",
        "            metadata=ToolMetadata(\n",
        "                name=f\"vector_tool_{file_base}\",\n",
        "                description=f\"Useful for questions related to specific facts\",\n",
        "            ),\n",
        "        ),\n",
        "        QueryEngineTool(\n",
        "            query_engine=summary_query_engine,\n",
        "            metadata=ToolMetadata(\n",
        "                name=f\"summary_tool_{file_base}\",\n",
        "                description=f\"Useful for summarization questions\",\n",
        "            ),\n",
        "        ),\n",
        "    ]\n",
        "\n",
        "    # build agent\n",
        "    function_llm = OpenAI(model=\"gpt-4-0125-preview\t\")\n",
        "    agent = OpenAIAgent.from_tools(\n",
        "        query_engine_tools,\n",
        "        llm=function_llm,\n",
        "        verbose=True,\n",
        "        system_prompt=f\"\"\"\\\n",
        "You are a specialized agent designed to answer queries about the `{file_base}.pdf` part of the Mærsk Mc-Kinney Møller Center for Zero Carbon Shipping.\n",
        "You must ALWAYS use at least one of the tools provided when answering a question; do NOT rely on prior knowledge.\\\n",
        "\"\"\",\n",
        "    )\n",
        "\n",
        "    return agent, summary\n",
        "\n",
        "\n",
        "async def build_agents(docs):\n",
        "    node_parser = SentenceSplitter()\n",
        "\n",
        "    # Build agents dictionary\n",
        "    agents_dict = {}\n",
        "    extra_info_dict = {}\n",
        "\n",
        "    # # this is for the baseline\n",
        "    # all_nodes = []\n",
        "\n",
        "    for idx, doc in enumerate(tqdm(docs)):\n",
        "        nodes = node_parser.get_nodes_from_documents([doc])\n",
        "        # all_nodes.extend(nodes)\n",
        "\n",
        "        # ID will be base + parent\n",
        "        file_path = Path(doc.metadata[\"path\"])\n",
        "        file_base = str(file_path.parent.stem) + \"_\" + str(file_path.stem)\n",
        "        agent, summary = await build_agent_per_doc(nodes, file_base)\n",
        "\n",
        "        agents_dict[file_base] = agent\n",
        "        extra_info_dict[file_base] = {\"summary\": summary, \"nodes\": nodes}\n",
        "\n",
        "    return agents_dict, extra_info_dict"
      ]
    },
    {
      "cell_type": "code",
      "execution_count": 14,
      "id": "44748b46-dd6b-4d4f-bc70-7022ae96413f",
      "metadata": {
        "colab": {
          "base_uri": "https://localhost:8080/",
          "height": 103,
          "referenced_widgets": [
            "608b64aa98454ff98a29b319a4445e4d",
            "e27af0245a1f4e6b99911565f31ac0a3",
            "8e229818c55e451895a0817355dcbf80",
            "e249ae6e05564be0893ee0f43996b85d",
            "a6f3db8bde0643d3bd4ac3e1af46b302",
            "80edab758cfd4e989506a0be7ea7fb74",
            "0d6d39165c4948e8b387bfe10a2af3bd",
            "bc8b9bcd81f04b46a18023e69579898f",
            "9135a2b325a740feb561cd07cc37f870",
            "652c82d875a34b99b03944b00d92aba4",
            "b55b32873b66472e8e1b74ba81cec7bd"
          ]
        },
        "id": "44748b46-dd6b-4d4f-bc70-7022ae96413f",
        "outputId": "56c73f1f-9a30-45f6-ac95-508661b1e143"
      },
      "outputs": [
        {
          "output_type": "display_data",
          "data": {
            "text/plain": [
              "  0%|          | 0/3 [00:00<?, ?it/s]"
            ],
            "application/vnd.jupyter.widget-view+json": {
              "version_major": 2,
              "version_minor": 0,
              "model_id": "608b64aa98454ff98a29b319a4445e4d"
            }
          },
          "metadata": {}
        },
        {
          "output_type": "stream",
          "name": "stdout",
          "text": [
            "MMMCZCS_LCA_Calculating_GHG_Intensity\n",
            "MMMCZCS_Implications_2023_IMO_GHG_Strategy\n",
            "MMMCZCS_Assessing_impacts_EU_and_US_policies\n"
          ]
        }
      ],
      "source": [
        "agents_dict, extra_info_dict = await build_agents(docs)"
      ]
    },
    {
      "cell_type": "markdown",
      "id": "899ca55b-0c02-429b-a765-8e4f806d503f",
      "metadata": {
        "id": "899ca55b-0c02-429b-a765-8e4f806d503f"
      },
      "source": [
        "### Build Retriever-Enabled OpenAI Agent\n",
        "\n",
        "We build a top-level agent that can orchestrate across the different document agents to answer any user query.\n",
        "\n",
        "This `RetrieverOpenAIAgent` performs tool retrieval before tool use (unlike a default agent that tries to put all tools in the prompt).\n",
        "\n",
        "**Improvements from V0**: We make the following improvements compared to the \"base\" version in V0.\n",
        "\n",
        "- Adding in reranking: we use Cohere reranker to better filter the candidate set of documents.\n",
        "- Adding in a query planning tool: we add an explicit query planning tool that's dynamically created based on the set of retrieved tools.\n"
      ]
    },
    {
      "cell_type": "code",
      "execution_count": 15,
      "id": "6884ff15-bf40-4bdd-a1e3-58cbd056a12a",
      "metadata": {
        "id": "6884ff15-bf40-4bdd-a1e3-58cbd056a12a"
      },
      "outputs": [],
      "source": [
        "# define tool for each document agent\n",
        "all_tools = []\n",
        "for file_base, agent in agents_dict.items():\n",
        "    summary = extra_info_dict[file_base][\"summary\"]\n",
        "    doc_tool = QueryEngineTool(\n",
        "        query_engine=agent,\n",
        "        metadata=ToolMetadata(\n",
        "            name=f\"tool_{file_base}\",\n",
        "            description=summary,\n",
        "        ),\n",
        "    )\n",
        "    all_tools.append(doc_tool)"
      ]
    },
    {
      "cell_type": "code",
      "execution_count": 16,
      "id": "346ed0e1-b96f-446b-a768-4f11a9a1a7f6",
      "metadata": {
        "colab": {
          "base_uri": "https://localhost:8080/"
        },
        "id": "346ed0e1-b96f-446b-a768-4f11a9a1a7f6",
        "outputId": "3f87e58d-9a35-4e4f-d4a4-0bb6e4ee11d5"
      },
      "outputs": [
        {
          "output_type": "stream",
          "name": "stdout",
          "text": [
            "ToolMetadata(description='The document outlines a standardized methodology for calculating the greenhouse gas intensity of maritime fuels, emphasizing global warming potential assessment and providing guidance on emissions accounting principles and credits for various stages of the fuel life cycle.', name='tool_MMMCZCS_LCA_Calculating_GHG_Intensity', fn_schema=<class 'llama_index.core.tools.types.DefaultToolFnSchema'>, return_direct=False)\n"
          ]
        }
      ],
      "source": [
        "print(all_tools[0].metadata)"
      ]
    },
    {
      "cell_type": "code",
      "execution_count": 87,
      "id": "b266ad43-c3fd-41cb-9e3b-4cb2bb2c2e5f",
      "metadata": {
        "id": "b266ad43-c3fd-41cb-9e3b-4cb2bb2c2e5f"
      },
      "outputs": [],
      "source": [
        "# define an \"object\" index and retriever over these tools\n",
        "from llama_index.core import VectorStoreIndex\n",
        "from llama_index.core.objects import (\n",
        "    ObjectIndex,\n",
        "    ObjectRetriever,\n",
        ")\n",
        "from llama_index.postprocessor.cohere_rerank import CohereRerank\n",
        "from llama_index.core.query_engine import SubQuestionQueryEngine\n",
        "from llama_index.core.schema import QueryBundle\n",
        "from llama_index.llms.openai import OpenAI\n",
        "\n",
        "\n",
        "llm = OpenAI(model_name=\"gpt-4-0613\")\n",
        "\n",
        "obj_index = ObjectIndex.from_objects(\n",
        "    all_tools,\n",
        "    index_cls=VectorStoreIndex,\n",
        ")\n",
        "vector_node_retriever = obj_index.as_node_retriever(\n",
        "    similarity_top_k=10,\n",
        ")\n",
        "\n",
        "\n",
        "# define a custom object retriever that adds in a query planning tool\n",
        "class CustomObjectRetriever(ObjectRetriever):\n",
        "    def __init__(\n",
        "        self,\n",
        "        retriever,\n",
        "        object_node_mapping,\n",
        "        node_postprocessors=None,\n",
        "        llm=None,\n",
        "    ):\n",
        "        self._retriever = retriever\n",
        "        self._object_node_mapping = object_node_mapping\n",
        "        self._llm = llm or OpenAI(\"gpt-4-0613\")\n",
        "        self._node_postprocessors = node_postprocessors or []\n",
        "\n",
        "    def retrieve(self, query_bundle):\n",
        "        if isinstance(query_bundle, str):\n",
        "            query_bundle = QueryBundle(query_str=query_bundle)\n",
        "\n",
        "        nodes = self._retriever.retrieve(query_bundle)\n",
        "        for processor in self._node_postprocessors:\n",
        "            nodes = processor.postprocess_nodes(\n",
        "                nodes, query_bundle=query_bundle\n",
        "            )\n",
        "        tools = [self._object_node_mapping.from_node(n.node) for n in nodes]\n",
        "\n",
        "        sub_question_engine = SubQuestionQueryEngine.from_defaults(\n",
        "            query_engine_tools=tools, llm=self._llm\n",
        "        )\n",
        "        sub_question_description = f\"\"\"\\\n",
        "Useful for any queries that involve comparing multiple documents. ALWAYS use this tool for comparison queries - make sure to call this \\\n",
        "tool with the original query. Do NOT use the other tools for any queries involving multiple documents. Give an answer that is 8-9 lines.\n",
        "\"\"\"\n",
        "        sub_question_tool = QueryEngineTool(\n",
        "            query_engine=sub_question_engine,\n",
        "            metadata=ToolMetadata(\n",
        "                name=\"compare_tool\", description=sub_question_description\n",
        "            ),\n",
        "        )\n",
        "\n",
        "        return tools + [sub_question_tool]"
      ]
    },
    {
      "cell_type": "code",
      "source": [
        "\n",
        "os.environ[\"COHERE_API_KEY\"] = \"key\"\n"
      ],
      "metadata": {
        "id": "hvSwM3QxBH9-"
      },
      "id": "hvSwM3QxBH9-",
      "execution_count": 18,
      "outputs": []
    },
    {
      "cell_type": "code",
      "execution_count": 19,
      "id": "0ba0d1a6-e324-4faa-b72b-d340904e65b2",
      "metadata": {
        "id": "0ba0d1a6-e324-4faa-b72b-d340904e65b2"
      },
      "outputs": [],
      "source": [
        "# wrap it with ObjectRetriever to return objects\n",
        "custom_obj_retriever = CustomObjectRetriever(\n",
        "    vector_node_retriever,\n",
        "    obj_index.object_node_mapping,\n",
        "    node_postprocessors=[CohereRerank(top_n=5)],\n",
        "    llm=llm,\n",
        ")"
      ]
    },
    {
      "cell_type": "code",
      "execution_count": 20,
      "id": "8654ce2a-cce7-44fc-8445-8bbcfdf7ee91",
      "metadata": {
        "colab": {
          "base_uri": "https://localhost:8080/"
        },
        "id": "8654ce2a-cce7-44fc-8445-8bbcfdf7ee91",
        "outputId": "0e9b1010-fea6-4a97-b373-e7b4338777c4"
      },
      "outputs": [
        {
          "output_type": "stream",
          "name": "stdout",
          "text": [
            "4\n"
          ]
        }
      ],
      "source": [
        "tmps = custom_obj_retriever.retrieve(\"hello\")\n",
        "\n",
        "# should be 5 + 1 -- 5 from reranker, 1 from subquestion\n",
        "print(len(tmps))"
      ]
    },
    {
      "cell_type": "code",
      "execution_count": 88,
      "id": "fed38942-1e37-4c61-89fa-d2ef41151831",
      "metadata": {
        "id": "fed38942-1e37-4c61-89fa-d2ef41151831"
      },
      "outputs": [],
      "source": [
        "from llama_index.agent.openai import OpenAIAgent\n",
        "from llama_index.core.agent import ReActAgent\n",
        "\n",
        "top_agent = OpenAIAgent.from_tools(\n",
        "    tool_retriever=custom_obj_retriever,\n",
        "    system_prompt=\"\"\" \\\n",
        "You are an agent designed to answer queries about the zero carbon shipping and Mærsk McKinney Møller Center for Zero Carbon Shipping.\n",
        "Please always use the tools provided to answer a question. Answer in 8-9 lines. Do not rely on prior knowledge.\\\n",
        "\n",
        "\"\"\",\n",
        "    llm=llm,\n",
        "    verbose=True,\n",
        ")\n",
        "\n",
        "# top_agent = ReActAgent.from_tools(\n",
        "#     tool_retriever=custom_obj_retriever,\n",
        "#     system_prompt=\"\"\" \\\n",
        "# You are an agent designed to answer queries about the documentation.\n",
        "# Please always use the tools provided to answer a question. Do not rely on prior knowledge.\\\n",
        "\n",
        "# \"\"\",\n",
        "#     llm=llm,\n",
        "#     verbose=True,\n",
        "# )"
      ]
    },
    {
      "cell_type": "markdown",
      "id": "aa32b97c-6779-4b60-823d-6ca3be6f358a",
      "metadata": {
        "id": "aa32b97c-6779-4b60-823d-6ca3be6f358a"
      },
      "source": [
        "### Define Baseline Vector Store Index\n",
        "\n",
        "As a point of comparison, we define a \"naive\" RAG pipeline which dumps all docs into a single vector index collection.\n",
        "\n",
        "We set the top_k = 4"
      ]
    },
    {
      "cell_type": "code",
      "execution_count": 22,
      "id": "f2f54834-1597-46ce-b0d3-0456bfa0d368",
      "metadata": {
        "id": "f2f54834-1597-46ce-b0d3-0456bfa0d368"
      },
      "outputs": [],
      "source": [
        "all_nodes = [\n",
        "    n for extra_info in extra_info_dict.values() for n in extra_info[\"nodes\"]\n",
        "]"
      ]
    },
    {
      "cell_type": "code",
      "execution_count": 23,
      "id": "60dfc88f-6f47-4ef2-9ae6-74abde06a485",
      "metadata": {
        "id": "60dfc88f-6f47-4ef2-9ae6-74abde06a485"
      },
      "outputs": [],
      "source": [
        "base_index = VectorStoreIndex(all_nodes)\n",
        "base_query_engine = base_index.as_query_engine(similarity_top_k=4)"
      ]
    },
    {
      "cell_type": "markdown",
      "id": "8dedb927-a992-4f21-a0fb-4ce4361adcb3",
      "metadata": {
        "id": "8dedb927-a992-4f21-a0fb-4ce4361adcb3"
      },
      "source": [
        "## Running Example Queries\n",
        "\n",
        "Let's run some example queries, ranging from QA / summaries over a single document to QA / summarization over multiple documents."
      ]
    },
    {
      "cell_type": "code",
      "execution_count": 29,
      "id": "8e743c62-7dd8-4ac9-85a5-f1cbc112a79c",
      "metadata": {
        "colab": {
          "base_uri": "https://localhost:8080/"
        },
        "id": "8e743c62-7dd8-4ac9-85a5-f1cbc112a79c",
        "outputId": "3eb0e4e5-55fc-4cae-81f8-703052d0aaf4"
      },
      "outputs": [
        {
          "output_type": "stream",
          "name": "stdout",
          "text": [
            "Added user message to memory: What are LCA calculations?\n",
            "=== Calling Function ===\n",
            "Calling function: tool_MMMCZCS_LCA_Calculating_GHG_Intensity with args: {\"input\":\"LCA calculations\"}\n",
            "Added user message to memory: LCA calculations\n",
            "=== Calling Function ===\n",
            "Calling function: summary_tool_MMMCZCS_LCA_Calculating_GHG_Intensity with args: {\n",
            "  \"input\": \"LCA calculations\"\n",
            "}\n",
            "Got output: LCA calculations involve assessing the environmental impacts of a product, process, or activity throughout its entire life cycle. This includes defining the system boundary to determine what processes and activities will be considered, collecting data on inputs and outputs, and evaluating the environmental impacts associated with each stage. The calculations aim to provide a comprehensive understanding of the greenhouse gas emissions intensity of maritime fuels by considering factors such as feedstock extraction, fuel production, transportation, distribution, storage, and bunkering. The methodology developed by the Mærsk Mc-Kinney Møller Center for Zero Carbon Shipping (MMMCZCS) offers a standardized framework for conducting these LCA calculations to support informed decision-making and promote sustainable practices within the maritime industry.\n",
            "========================\n",
            "\n",
            "Got output: Life Cycle Assessment (LCA) calculations are a method of assessing the environmental impacts of a product, process, or activity throughout its entire life cycle. This involves defining the system boundary to determine what processes and activities will be considered, collecting data on inputs and outputs, and evaluating the environmental impacts associated with each stage. The aim is to provide a comprehensive understanding of the greenhouse gas emissions intensity of maritime fuels. This includes considering factors such as feedstock extraction, fuel production, transportation, distribution, storage, and bunkering. The Mærsk Mc-Kinney Møller Center for Zero Carbon Shipping (MMMCZCS) has developed a methodology that offers a standardized framework for conducting these LCA calculations. This supports informed decision-making and promotes sustainable practices within the maritime industry.\n",
            "========================\n",
            "\n"
          ]
        }
      ],
      "source": [
        "response = top_agent.query(\n",
        "    \"What are LCA calculations?\",\n",
        ")"
      ]
    },
    {
      "cell_type": "code",
      "execution_count": 25,
      "id": "a4ce2a76-5779-4acf-9337-69109dae7fd6",
      "metadata": {
        "colab": {
          "base_uri": "https://localhost:8080/"
        },
        "id": "a4ce2a76-5779-4acf-9337-69109dae7fd6",
        "outputId": "cc18241b-2a9c-4174-b972-a0796b524da0"
      },
      "outputs": [
        {
          "output_type": "stream",
          "name": "stdout",
          "text": [
            "Life Cycle Assessment (LCA) calculations are a methodology used to evaluate the environmental impacts of a product, process, or service throughout its entire life cycle. This assessment considers all stages, from raw material extraction, production, distribution, use, and disposal. LCA calculations help in quantifying the environmental burdens associated with a product or service, including energy consumption, resource depletion, and emissions to air, water, and land. The results of LCA calculations provide valuable insights for decision-making to improve the environmental performance of products and processes.\n"
          ]
        }
      ],
      "source": [
        "print(response)"
      ]
    },
    {
      "cell_type": "code",
      "execution_count": 30,
      "id": "af28b422-fb73-4b59-9e77-3ba3afa87795",
      "metadata": {
        "colab": {
          "base_uri": "https://localhost:8080/"
        },
        "id": "af28b422-fb73-4b59-9e77-3ba3afa87795",
        "outputId": "31c00310-0480-4851-e59b-147c85975447"
      },
      "outputs": [
        {
          "output_type": "stream",
          "name": "stdout",
          "text": [
            "Zero carbon shipping refers to the concept of operating ships without emitting carbon dioxide or other greenhouse gases into the atmosphere. This involves using energy sources that do not produce carbon emissions, such as sustainable fuels like biofuels, hydrogen, or ammonia, as well as implementing energy efficiency measures to reduce overall energy consumption. The goal of zero carbon shipping is to significantly reduce the environmental impact of the shipping industry and contribute to global efforts to combat climate change.\n"
          ]
        }
      ],
      "source": [
        "# baseline\n",
        "response = base_query_engine.query(\n",
        "    \"What is zero carbon shipping?\",\n",
        ")\n",
        "print(str(response))"
      ]
    },
    {
      "cell_type": "code",
      "execution_count": 33,
      "id": "ee6ef20c-3ccc-46c3-ad87-667138d78d5d",
      "metadata": {
        "colab": {
          "base_uri": "https://localhost:8080/"
        },
        "id": "ee6ef20c-3ccc-46c3-ad87-667138d78d5d",
        "outputId": "cb689604-6458-4888-900f-1ebc73145230"
      },
      "outputs": [
        {
          "output_type": "stream",
          "name": "stdout",
          "text": [
            "Added user message to memory: Compare the how different arguments are used for the nessecity to reach zero carbon shipping from the EU, the US and the IMO respectively?\n",
            "=== Calling Function ===\n",
            "Calling function: compare_tool with args: {\"input\":\"How are different arguments used for the necessity to reach zero carbon shipping from the EU, the US, and the IMO respectively?\"}\n",
            "Generated 5 sub questions.\n",
            "\u001b[1;3;38;2;237;90;200m[tool_MMMCZCS_Assessing_impacts_EU_and_US_policies] Q: What are the benefits of EU policies in promoting the rapid adoption of alternative maritime fuels?\n",
            "\u001b[0mAdded user message to memory: What are the benefits of EU policies in promoting the rapid adoption of alternative maritime fuels?\n",
            "\u001b[1;3;38;2;90;149;237m[tool_MMMCZCS_Assessing_impacts_EU_and_US_policies] Q: What are the challenges faced by the US policies in promoting the rapid adoption of alternative maritime fuels?\n",
            "\u001b[0mAdded user message to memory: What are the challenges faced by the US policies in promoting the rapid adoption of alternative maritime fuels?\n",
            "\u001b[1;3;38;2;11;159;203m[tool_MMMCZCS_Assessing_impacts_EU_and_US_policies] Q: What incentives does the EU provide for green vessel technologies adoption?\n",
            "\u001b[0mAdded user message to memory: What incentives does the EU provide for green vessel technologies adoption?\n",
            "\u001b[1;3;38;2;155;135;227m[tool_MMMCZCS_Assessing_impacts_EU_and_US_policies] Q: What incentives does the US provide for green vessel technologies adoption?\n",
            "\u001b[0mAdded user message to memory: What incentives does the US provide for green vessel technologies adoption?\n",
            "\u001b[1;3;38;2;237;90;200m[tool_MMMCZCS_Implications_2023_IMO_GHG_Strategy] Q: What are the implications of the 2023 IMO GHG Strategy on achieving net-zero emissions in the shipping industry by 2050?\n",
            "\u001b[0mAdded user message to memory: What are the implications of the 2023 IMO GHG Strategy on achieving net-zero emissions in the shipping industry by 2050?\n",
            "=== Calling Function ===\n",
            "Calling function: vector_tool_MMMCZCS_Assessing_impacts_EU_and_US_policies with args: {\n",
            "  \"input\": \"challenges US policies alternative maritime fuels\"\n",
            "}\n",
            "=== Calling Function ===\n",
            "Calling function: vector_tool_MMMCZCS_Assessing_impacts_EU_and_US_policies with args: {\n",
            "  \"input\": \"US incentives green vessel technologies adoption\"\n",
            "}\n",
            "=== Calling Function ===\n",
            "Calling function: vector_tool_MMMCZCS_Assessing_impacts_EU_and_US_policies with args: {\n",
            "  \"input\": \"EU incentives green vessel technologies adoption\"\n",
            "}\n",
            "=== Calling Function ===\n",
            "Calling function: vector_tool_MMMCZCS_Assessing_impacts_EU_and_US_policies with args: {\n",
            "  \"input\": \"benefits of EU policies in promoting the rapid adoption of alternative maritime fuels\"\n",
            "}\n",
            "=== Calling Function ===\n",
            "Calling function: vector_tool_MMMCZCS_Implications_2023_IMO_GHG_Strategy with args: {\n",
            "  \"input\": \"implications of the 2023 IMO GHG Strategy on achieving net-zero emissions in the shipping industry by 2050\"\n",
            "}\n",
            "Got output: The challenges that US policies may face in promoting the adoption of alternative maritime fuels include the need to effectively narrow or close the cost gap between conventional and alternative fuels. Additionally, the policies must successfully encourage near-term action from companies in the maritime industry. If these challenges are not addressed, there may be difficulties in motivating significant near-term investments in green vessels and alternative fuels within the maritime sector.\n",
            "========================\n",
            "\n",
            "Got output: EU incentives aim to narrow the cost gap between conventional and alternative fuels, encouraging near-term action in adopting green vessel technologies. These incentives are designed to address the financial barriers associated with investing in vessels capable of operating on alternative fuels, such as higher capital expenditure, operating expenditures, and the uncertainty surrounding the availability and cost of alternative maritime fuels. By providing policies that can motivate near-term investment in green vessels, the EU seeks to accelerate the deployment of alternative fuels in the maritime sector.\n",
            "========================\n",
            "\n",
            "Got output: The EU policies can benefit the rapid adoption of alternative maritime fuels by potentially creating incentives for companies to charge a green premium to customers for cargo transported using alternative fuels. Additionally, the EU's Corporate Sustainability Reporting Directive may increase pressure on companies to reduce transport emissions, potentially driving up demand for green shipping on EU routes. These policies could lead to increased demand for alternative fuels, kickstarting a virtuous cycle that promotes the uptake of alternative fuels globally and encourages higher ambition among member states at the International Maritime Organization (IMO).\n",
            "========================\n",
            "\n",
            "Got output: The US Inflation Reduction Act provides subsidies for clean hydrogen and CCS, which can significantly benefit alternative maritime fuels. These subsidies can help reduce production costs for alternative fuels, making them more competitive with conventional fuels. Additionally, the Bipartisan Infrastructure Investment and Jobs Act of 2021 includes a substantial investment in hydrogen fuels, particularly through the development of hydrogen hubs at ports. These incentives aim to scale up the supply of clean hydrogen-based fuels to meet industrial and transportation demands, potentially driving the adoption of green vessel technologies in the US.\n",
            "========================\n",
            "\n",
            "\u001b[1;3;38;2;11;159;203m[tool_MMMCZCS_Assessing_impacts_EU_and_US_policies] A: The EU provides incentives aimed at narrowing the cost gap between conventional and alternative fuels. These incentives are designed to address the financial barriers associated with investing in vessels capable of operating on alternative fuels. These barriers include higher capital expenditure, operating expenditures, and the uncertainty surrounding the availability and cost of alternative maritime fuels. By providing policies that can motivate near-term investment in green vessels, the EU seeks to accelerate the deployment of alternative fuels in the maritime sector.\n",
            "\u001b[0mGot output: The implications of the 2023 IMO GHG Strategy on achieving net-zero emissions in the shipping industry by 2050 are significant. The strategy sets ambitious targets for reducing GHG emissions, including a goal of net-zero emissions by 2050 on a Well-to-Wake basis. To reach this target, the industry must increase the uptake of zero or near-zero GHG emission technologies, fuels, and energy sources. The strategy also outlines specific carbon intensity reduction targets for 2030 and beyond, along with the development of mid-term measures by 2027 to enforce fuel standards and GHG emissions pricing. Implementing these measures will require substantial investments and a shift towards sustainable energy sources, prompting the industry to revisit its business models and focus on sustainable fuels and energy efficiency. By developing holistic approaches that encompass both short-term and mid-term measures, IMO Member States and the shipping industry can work towards meeting the energy efficiency and fuel uptake ambitions necessary to achieve the required GHG reductions by 2030, 2040, and ultimately, by 2050.\n",
            "========================\n",
            "\n",
            "\u001b[1;3;38;2;155;135;227m[tool_MMMCZCS_Assessing_impacts_EU_and_US_policies] A: The US provides incentives for the adoption of green vessel technologies through various policies and acts. The Inflation Reduction Act provides subsidies for clean hydrogen and Carbon Capture and Storage (CCS), which can significantly benefit alternative maritime fuels by reducing their production costs and making them more competitive with conventional fuels. Additionally, the Bipartisan Infrastructure Investment and Jobs Act of 2021 includes a substantial investment in hydrogen fuels, particularly through the development of hydrogen hubs at ports. These incentives aim to increase the supply of clean hydrogen-based fuels to meet industrial and transportation demands, potentially driving the adoption of green vessel technologies in the US.\n",
            "\u001b[0m\u001b[1;3;38;2;237;90;200m[tool_MMMCZCS_Assessing_impacts_EU_and_US_policies] A: The EU policies can benefit the rapid adoption of alternative maritime fuels in several ways:\n",
            "\n",
            "1. They can potentially create incentives for companies to charge a green premium to customers for cargo transported using alternative fuels. This could make alternative fuels more financially attractive for shipping companies.\n",
            "\n",
            "2. The EU's Corporate Sustainability Reporting Directive may increase pressure on companies to reduce transport emissions. This could potentially drive up demand for green shipping on EU routes, further promoting the use of alternative fuels.\n",
            "\n",
            "3. These policies could lead to increased demand for alternative fuels, kickstarting a virtuous cycle that promotes the uptake of alternative fuels globally.\n",
            "\n",
            "4. The policies could also encourage higher ambition among member states at the International Maritime Organization (IMO), leading to more widespread adoption of alternative fuels in the maritime industry.\n",
            "\u001b[0m\u001b[1;3;38;2;90;149;237m[tool_MMMCZCS_Assessing_impacts_EU_and_US_policies] A: The challenges faced by US policies in promoting the rapid adoption of alternative maritime fuels include:\n",
            "\n",
            "1. The need to effectively narrow or close the cost gap between conventional and alternative fuels. This is a significant challenge as alternative fuels are often more expensive than conventional ones, making them less attractive to the maritime industry.\n",
            "\n",
            "2. The need to encourage near-term action from companies in the maritime industry. Policies must be designed in such a way that they motivate companies to make significant investments in green vessels and alternative fuels in the near term. If this is not achieved, the transition to alternative fuels may be slow or not happen at all.\n",
            "\u001b[0m\u001b[1;3;38;2;237;90;200m[tool_MMMCZCS_Implications_2023_IMO_GHG_Strategy] A: The 2023 IMO GHG Strategy has significant implications for achieving net-zero emissions in the shipping industry by 2050. The strategy sets ambitious targets for reducing GHG emissions, including a goal of net-zero emissions by 2050 on a Well-to-Wake basis. To reach this target, the industry must increase the uptake of zero or near-zero GHG emission technologies, fuels, and energy sources. \n",
            "\n",
            "The strategy also outlines specific carbon intensity reduction targets for 2030 and beyond, along with the development of mid-term measures by 2027 to enforce fuel standards and GHG emissions pricing. Implementing these measures will require substantial investments and a shift towards sustainable energy sources, prompting the industry to revisit its business models and focus on sustainable fuels and energy efficiency. \n",
            "\n",
            "By developing holistic approaches that encompass both short-term and mid-term measures, IMO Member States and the shipping industry can work towards meeting the energy efficiency and fuel uptake ambitions necessary to achieve the required GHG reductions by 2030, 2040, and ultimately, by 2050.\n",
            "\u001b[0mGot output: The EU emphasizes the importance of creating incentives for companies to adopt alternative maritime fuels, potentially through green premiums and sustainability reporting directives. In contrast, the US focuses on the need to bridge the cost gap between conventional and alternative fuels and to encourage immediate action from maritime companies. On the other hand, the IMO stresses the significance of setting ambitious targets for reducing GHG emissions, implementing carbon intensity reduction goals, and developing mid-term measures to enforce fuel standards and GHG emissions pricing. Each entity presents unique arguments to underscore the necessity of achieving zero carbon shipping, highlighting financial incentives, cost considerations, and regulatory frameworks as key drivers towards this goal.\n",
            "========================\n",
            "\n"
          ]
        }
      ],
      "source": [
        "response = top_agent.query(\n",
        "    \"Compare the how different arguments are used for the nessecity to reach zero carbon shipping from the EU, the US and the IMO respectively?\"\n",
        ")"
      ]
    },
    {
      "cell_type": "code",
      "execution_count": 34,
      "id": "cfe1dd4c-8bfd-43d0-99bc-ca60861dc418",
      "metadata": {
        "id": "cfe1dd4c-8bfd-43d0-99bc-ca60861dc418",
        "colab": {
          "base_uri": "https://localhost:8080/"
        },
        "outputId": "37059295-716b-4745-dd79-a0bc82e0faaa"
      },
      "outputs": [
        {
          "output_type": "stream",
          "name": "stdout",
          "text": [
            "The EU emphasizes creating incentives like green premiums and sustainability reporting directives, the US focuses on bridging the cost gap and immediate action, while the IMO stresses ambitious targets, carbon intensity reduction goals, and mid-term measures for fuel standards and GHG emissions pricing in their arguments for the necessity to reach zero carbon shipping.\n"
          ]
        }
      ],
      "source": [
        "print(response)"
      ]
    },
    {
      "cell_type": "code",
      "execution_count": 35,
      "id": "a8d97266-8e22-43a8-adfe-b9a7f833c06d",
      "metadata": {
        "id": "a8d97266-8e22-43a8-adfe-b9a7f833c06d",
        "colab": {
          "base_uri": "https://localhost:8080/"
        },
        "outputId": "a3608096-f2ac-4924-b90e-2084ddc72782"
      },
      "outputs": [
        {
          "output_type": "stream",
          "name": "stdout",
          "text": [
            "Added user message to memory: What are the main arguments the EU uses in regard to the nessecity of reaching zero carbon shipping?\n",
            "=== Calling Function ===\n",
            "Calling function: tool_MMMCZCS_Assessing_impacts_EU_and_US_policies with args: {\"input\":\"EU arguments for zero carbon shipping\"}\n",
            "Added user message to memory: EU arguments for zero carbon shipping\n",
            "=== Calling Function ===\n",
            "Calling function: vector_tool_MMMCZCS_Assessing_impacts_EU_and_US_policies with args: {\n",
            "  \"input\": \"EU arguments for zero carbon shipping\"\n",
            "}\n",
            "Got output: The EU emphasizes the importance of achieving net-zero emissions in the shipping industry by 2050 and aims for a 5-10% uptake of alternative fuels by 2030. To support these goals, EU policies focus on narrowing the cost gap between alternative fuels and conventional fossil fuels through subsidies on alternatives and penalties on traditional fuels. Additionally, the EU's FuelEU pooling mechanism offers time-limited first-mover rewards to incentivize early investment in alternative fuels. This approach aims to encourage forward-thinking companies in the maritime sector to strategically position themselves to benefit from new incentives for alternative fuels and accelerate emissions reduction targets for cargo traded between the US and the EU.\n",
            "========================\n",
            "\n",
            "Got output: The EU emphasizes the importance of achieving net-zero emissions in the shipping industry by 2050 and aims for a 5-10% uptake of alternative fuels by 2030. To support these goals, EU policies focus on narrowing the cost gap between alternative fuels and conventional fossil fuels through subsidies on alternatives and penalties on traditional fuels. Additionally, the EU's FuelEU pooling mechanism offers time-limited first-mover rewards to incentivize early investment in alternative fuels. This approach aims to encourage forward-thinking companies in the maritime sector to strategically position themselves to benefit from new incentives for alternative fuels and accelerate emissions reduction targets for cargo traded between the US and the EU.\n",
            "========================\n",
            "\n"
          ]
        }
      ],
      "source": [
        "response = top_agent.query(\n",
        "    \"What are the main arguments the EU uses in regard to the nessecity of reaching zero carbon shipping?\"\n",
        ")"
      ]
    },
    {
      "cell_type": "code",
      "execution_count": null,
      "id": "7401a80c-3cc7-4c72-9c45-82ffc1bd6816",
      "metadata": {
        "id": "7401a80c-3cc7-4c72-9c45-82ffc1bd6816"
      },
      "outputs": [],
      "source": [
        "print(str(response))"
      ]
    },
    {
      "cell_type": "markdown",
      "source": [
        "\n",
        "DEMO INTERFACE\n",
        "\n",
        "\n",
        "\n",
        "**This is the part for the demo interface**\n",
        "\n"
      ],
      "metadata": {
        "id": "47ckkbYzqOom"
      },
      "id": "47ckkbYzqOom"
    },
    {
      "cell_type": "code",
      "source": [
        "!pip install ipywidgets\n",
        "import ipywidgets as widgets\n",
        "from IPython.display import display\n",
        "import asyncio"
      ],
      "metadata": {
        "id": "z8jUaypnqS9f"
      },
      "id": "z8jUaypnqS9f",
      "execution_count": null,
      "outputs": []
    },
    {
      "cell_type": "code",
      "source": [
        "async def query_agent(question):\n",
        "    response = top_agent.query(question)\n",
        "    print(\"Question:\\n\", question)\n",
        "    print(\"\")\n",
        "    print(\"Agent Response:\\n\", response)"
      ],
      "metadata": {
        "id": "eXzTLGhgqavy"
      },
      "id": "eXzTLGhgqavy",
      "execution_count": 89,
      "outputs": []
    },
    {
      "cell_type": "code",
      "source": [
        "# Text input for the question\n",
        "question_input_style = {'description_width': 'initial'}\n",
        "\n",
        "\n",
        "question_input = widgets.Text(\n",
        "    value='',\n",
        "    placeholder='Du kan også skrive dit eget spørgsmål her...',\n",
        "    style=question_input_style,\n",
        "    disabled=False,\n",
        "    layout={'width': '70%', 'height': '50px'}  # Adjust size as needed\n",
        "\n",
        ")\n",
        "\n",
        "# Predefined input button 1\n",
        "\n",
        "predefined_question = \"Compare the policies of the EU, US and IMO in regard to zero carbon shipping\"\n",
        "example_question_button = widgets.Button(\n",
        "    description = predefined_question,\n",
        "    button_style='info',  # Adds color styling to the button\n",
        "    tooltip='Click to insert an example question',\n",
        "    layout={'width': '70%', 'height': '40px'}  # Adjust size as needed\n",
        ")\n",
        "\n",
        "\n",
        "def insert_example_question(b):\n",
        "    question_input.value = predefined_question\n",
        "\n",
        "example_question_button.on_click(insert_example_question)\n",
        "\n",
        "\n",
        "# Predefined input button 2\n",
        "\n",
        "predefined_question2 = \"What is the LCA methodology?\"\n",
        "example_question_button2 = widgets.Button(\n",
        "    description = predefined_question2,\n",
        "    button_style='info',  # Adds color styling to the button\n",
        "    tooltip='Click to insert an example question',\n",
        "    layout={'width': '70%', 'height': '40px'}  # Adjust size as needed\n",
        ")\n",
        "\n",
        "def insert_example_question2(b):\n",
        "    question_input.value = predefined_question2\n",
        "\n",
        "example_question_button2.on_click(insert_example_question2)\n",
        "\n",
        "# New Textbox for instructions or feedback\n",
        "feedback_textbox = widgets.Textarea(\n",
        "    value='\\nFølgende publications er benyttet: \\n\\n- Assessing impacts of EU and US policies on accelerated deployment of alternative maritime fuels \\n\\n- MMMCZCS LCA Methodology for Calculating the GHG Intensity of Maritime Fuels \\n\\n- Implications of the 2023 IMO GHG Strategy for the Shipping Industry',\n",
        "    placeholder='Type something',\n",
        "    disabled=True,  # Make it read-only\n",
        "    layout={'width': '1000%', 'height': '140px'}  # Adjust size as needed\n",
        ")\n",
        "\n",
        "# Button to submit the question\n",
        "submit_button = widgets.Button(\n",
        "    description='Ask the MMMCZCS-Agent',\n",
        "    disabled=False,\n",
        "    button_style='success', # 'success', 'info', 'warning', 'danger' or ''\n",
        "    tooltip='Click to submit your question',\n",
        "    layout={'width': '20%', 'height': '50px'}  # Adjust size as needed\n",
        "\n",
        ")\n",
        "\n",
        "\n",
        "# Output widget to display the response\n",
        "output = widgets.Output()\n",
        "\n",
        "display(example_question_button, example_question_button2, question_input, submit_button, feedback_textbox, output)\n",
        "\n",
        "def on_button_clicked(b):\n",
        "    # Display the question and response in the output widget\n",
        "    with output:\n",
        "        output.clear_output()\n",
        "        print(\"Question:\", question_input.value)\n",
        "        # Asynchronously display the agent's response\n",
        "        asyncio.run(query_agent(question_input.value))\n",
        "\n",
        "submit_button.on_click(on_button_clicked)\n"
      ],
      "metadata": {
        "colab": {
          "base_uri": "https://localhost:8080/",
          "height": 377,
          "referenced_widgets": [
            "6a6b816fc80e47da9414aa77737ebb29",
            "19bc14a8558142d598a8b7e2b469cfdc",
            "db0ea26e74364879bd450b145fef071a",
            "7c5281bfb512481da2efb8caa7ef0b48",
            "563213047af149d5b4be20d9d4180380",
            "9956a384425a4517bae441de554ad397",
            "1e538073139844c9bcedf004ae33c08e",
            "28cdec26f11d4baab25642cd5c9fff2c",
            "8e274cb86f414e95b47c8fe31039f124",
            "5485219842ef41648b5024f5ff749684",
            "566a3b27df1a4b549960ad89bb7b9111",
            "7aabcc4ed9cf48b581330f0da8f50d3c",
            "f0b21be4e789493897bbd8f9005b6401",
            "f0b5b245517a426682120b53beb93fc9",
            "24134222fa8c468d9c73c9e4f3b8f2d8",
            "66d05427cc7d4f7ea4c7fa8ca7ef5099",
            "ffc3535f33c14829915e9f61d1259833"
          ]
        },
        "id": "GnAaMstPqk95",
        "outputId": "6f85231b-31a0-4f63-d8ef-bdbd96b6531e"
      },
      "id": "GnAaMstPqk95",
      "execution_count": 100,
      "outputs": [
        {
          "output_type": "display_data",
          "data": {
            "text/plain": [
              "Button(button_style='info', description='Compare the policies of the EU, US and IMO in regard to zero carbon s…"
            ],
            "application/vnd.jupyter.widget-view+json": {
              "version_major": 2,
              "version_minor": 0,
              "model_id": "6a6b816fc80e47da9414aa77737ebb29"
            }
          },
          "metadata": {}
        },
        {
          "output_type": "display_data",
          "data": {
            "text/plain": [
              "Button(button_style='info', description='What is the LCA methodology?', layout=Layout(height='40px', width='70…"
            ],
            "application/vnd.jupyter.widget-view+json": {
              "version_major": 2,
              "version_minor": 0,
              "model_id": "7c5281bfb512481da2efb8caa7ef0b48"
            }
          },
          "metadata": {}
        },
        {
          "output_type": "display_data",
          "data": {
            "text/plain": [
              "Text(value='', layout=Layout(height='50px', width='70%'), placeholder='Du kan også skrive dit eget spørgsmål h…"
            ],
            "application/vnd.jupyter.widget-view+json": {
              "version_major": 2,
              "version_minor": 0,
              "model_id": "1e538073139844c9bcedf004ae33c08e"
            }
          },
          "metadata": {}
        },
        {
          "output_type": "display_data",
          "data": {
            "text/plain": [
              "Button(button_style='success', description='Ask the MMMCZCS-Agent', layout=Layout(height='50px', width='20%'),…"
            ],
            "application/vnd.jupyter.widget-view+json": {
              "version_major": 2,
              "version_minor": 0,
              "model_id": "5485219842ef41648b5024f5ff749684"
            }
          },
          "metadata": {}
        },
        {
          "output_type": "display_data",
          "data": {
            "text/plain": [
              "Textarea(value='\\nFølgende publications er benyttet: \\n\\n- Assessing impacts of EU and US policies on accelera…"
            ],
            "application/vnd.jupyter.widget-view+json": {
              "version_major": 2,
              "version_minor": 0,
              "model_id": "f0b21be4e789493897bbd8f9005b6401"
            }
          },
          "metadata": {}
        },
        {
          "output_type": "display_data",
          "data": {
            "text/plain": [
              "Output()"
            ],
            "application/vnd.jupyter.widget-view+json": {
              "version_major": 2,
              "version_minor": 0,
              "model_id": "66d05427cc7d4f7ea4c7fa8ca7ef5099"
            }
          },
          "metadata": {}
        }
      ]
    }
  ],
  "metadata": {
    "kernelspec": {
      "display_name": ".venv",
      "language": "python",
      "name": "python3"
    },
    "language_info": {
      "codemirror_mode": {
        "name": "ipython",
        "version": 3
      },
      "file_extension": ".py",
      "mimetype": "text/x-python",
      "name": "python",
      "nbconvert_exporter": "python",
      "pygments_lexer": "ipython3"
    },
    "colab": {
      "provenance": []
    },
    "widgets": {
      "application/vnd.jupyter.widget-state+json": {
        "608b64aa98454ff98a29b319a4445e4d": {
          "model_module": "@jupyter-widgets/controls",
          "model_name": "HBoxModel",
          "model_module_version": "1.5.0",
          "state": {
            "_dom_classes": [],
            "_model_module": "@jupyter-widgets/controls",
            "_model_module_version": "1.5.0",
            "_model_name": "HBoxModel",
            "_view_count": null,
            "_view_module": "@jupyter-widgets/controls",
            "_view_module_version": "1.5.0",
            "_view_name": "HBoxView",
            "box_style": "",
            "children": [
              "IPY_MODEL_e27af0245a1f4e6b99911565f31ac0a3",
              "IPY_MODEL_8e229818c55e451895a0817355dcbf80",
              "IPY_MODEL_e249ae6e05564be0893ee0f43996b85d"
            ],
            "layout": "IPY_MODEL_a6f3db8bde0643d3bd4ac3e1af46b302"
          }
        },
        "e27af0245a1f4e6b99911565f31ac0a3": {
          "model_module": "@jupyter-widgets/controls",
          "model_name": "HTMLModel",
          "model_module_version": "1.5.0",
          "state": {
            "_dom_classes": [],
            "_model_module": "@jupyter-widgets/controls",
            "_model_module_version": "1.5.0",
            "_model_name": "HTMLModel",
            "_view_count": null,
            "_view_module": "@jupyter-widgets/controls",
            "_view_module_version": "1.5.0",
            "_view_name": "HTMLView",
            "description": "",
            "description_tooltip": null,
            "layout": "IPY_MODEL_80edab758cfd4e989506a0be7ea7fb74",
            "placeholder": "​",
            "style": "IPY_MODEL_0d6d39165c4948e8b387bfe10a2af3bd",
            "value": "100%"
          }
        },
        "8e229818c55e451895a0817355dcbf80": {
          "model_module": "@jupyter-widgets/controls",
          "model_name": "FloatProgressModel",
          "model_module_version": "1.5.0",
          "state": {
            "_dom_classes": [],
            "_model_module": "@jupyter-widgets/controls",
            "_model_module_version": "1.5.0",
            "_model_name": "FloatProgressModel",
            "_view_count": null,
            "_view_module": "@jupyter-widgets/controls",
            "_view_module_version": "1.5.0",
            "_view_name": "ProgressView",
            "bar_style": "success",
            "description": "",
            "description_tooltip": null,
            "layout": "IPY_MODEL_bc8b9bcd81f04b46a18023e69579898f",
            "max": 3,
            "min": 0,
            "orientation": "horizontal",
            "style": "IPY_MODEL_9135a2b325a740feb561cd07cc37f870",
            "value": 3
          }
        },
        "e249ae6e05564be0893ee0f43996b85d": {
          "model_module": "@jupyter-widgets/controls",
          "model_name": "HTMLModel",
          "model_module_version": "1.5.0",
          "state": {
            "_dom_classes": [],
            "_model_module": "@jupyter-widgets/controls",
            "_model_module_version": "1.5.0",
            "_model_name": "HTMLModel",
            "_view_count": null,
            "_view_module": "@jupyter-widgets/controls",
            "_view_module_version": "1.5.0",
            "_view_name": "HTMLView",
            "description": "",
            "description_tooltip": null,
            "layout": "IPY_MODEL_652c82d875a34b99b03944b00d92aba4",
            "placeholder": "​",
            "style": "IPY_MODEL_b55b32873b66472e8e1b74ba81cec7bd",
            "value": " 3/3 [00:14&lt;00:00,  5.17s/it]"
          }
        },
        "a6f3db8bde0643d3bd4ac3e1af46b302": {
          "model_module": "@jupyter-widgets/base",
          "model_name": "LayoutModel",
          "model_module_version": "1.2.0",
          "state": {
            "_model_module": "@jupyter-widgets/base",
            "_model_module_version": "1.2.0",
            "_model_name": "LayoutModel",
            "_view_count": null,
            "_view_module": "@jupyter-widgets/base",
            "_view_module_version": "1.2.0",
            "_view_name": "LayoutView",
            "align_content": null,
            "align_items": null,
            "align_self": null,
            "border": null,
            "bottom": null,
            "display": null,
            "flex": null,
            "flex_flow": null,
            "grid_area": null,
            "grid_auto_columns": null,
            "grid_auto_flow": null,
            "grid_auto_rows": null,
            "grid_column": null,
            "grid_gap": null,
            "grid_row": null,
            "grid_template_areas": null,
            "grid_template_columns": null,
            "grid_template_rows": null,
            "height": null,
            "justify_content": null,
            "justify_items": null,
            "left": null,
            "margin": null,
            "max_height": null,
            "max_width": null,
            "min_height": null,
            "min_width": null,
            "object_fit": null,
            "object_position": null,
            "order": null,
            "overflow": null,
            "overflow_x": null,
            "overflow_y": null,
            "padding": null,
            "right": null,
            "top": null,
            "visibility": null,
            "width": null
          }
        },
        "80edab758cfd4e989506a0be7ea7fb74": {
          "model_module": "@jupyter-widgets/base",
          "model_name": "LayoutModel",
          "model_module_version": "1.2.0",
          "state": {
            "_model_module": "@jupyter-widgets/base",
            "_model_module_version": "1.2.0",
            "_model_name": "LayoutModel",
            "_view_count": null,
            "_view_module": "@jupyter-widgets/base",
            "_view_module_version": "1.2.0",
            "_view_name": "LayoutView",
            "align_content": null,
            "align_items": null,
            "align_self": null,
            "border": null,
            "bottom": null,
            "display": null,
            "flex": null,
            "flex_flow": null,
            "grid_area": null,
            "grid_auto_columns": null,
            "grid_auto_flow": null,
            "grid_auto_rows": null,
            "grid_column": null,
            "grid_gap": null,
            "grid_row": null,
            "grid_template_areas": null,
            "grid_template_columns": null,
            "grid_template_rows": null,
            "height": null,
            "justify_content": null,
            "justify_items": null,
            "left": null,
            "margin": null,
            "max_height": null,
            "max_width": null,
            "min_height": null,
            "min_width": null,
            "object_fit": null,
            "object_position": null,
            "order": null,
            "overflow": null,
            "overflow_x": null,
            "overflow_y": null,
            "padding": null,
            "right": null,
            "top": null,
            "visibility": null,
            "width": null
          }
        },
        "0d6d39165c4948e8b387bfe10a2af3bd": {
          "model_module": "@jupyter-widgets/controls",
          "model_name": "DescriptionStyleModel",
          "model_module_version": "1.5.0",
          "state": {
            "_model_module": "@jupyter-widgets/controls",
            "_model_module_version": "1.5.0",
            "_model_name": "DescriptionStyleModel",
            "_view_count": null,
            "_view_module": "@jupyter-widgets/base",
            "_view_module_version": "1.2.0",
            "_view_name": "StyleView",
            "description_width": ""
          }
        },
        "bc8b9bcd81f04b46a18023e69579898f": {
          "model_module": "@jupyter-widgets/base",
          "model_name": "LayoutModel",
          "model_module_version": "1.2.0",
          "state": {
            "_model_module": "@jupyter-widgets/base",
            "_model_module_version": "1.2.0",
            "_model_name": "LayoutModel",
            "_view_count": null,
            "_view_module": "@jupyter-widgets/base",
            "_view_module_version": "1.2.0",
            "_view_name": "LayoutView",
            "align_content": null,
            "align_items": null,
            "align_self": null,
            "border": null,
            "bottom": null,
            "display": null,
            "flex": null,
            "flex_flow": null,
            "grid_area": null,
            "grid_auto_columns": null,
            "grid_auto_flow": null,
            "grid_auto_rows": null,
            "grid_column": null,
            "grid_gap": null,
            "grid_row": null,
            "grid_template_areas": null,
            "grid_template_columns": null,
            "grid_template_rows": null,
            "height": null,
            "justify_content": null,
            "justify_items": null,
            "left": null,
            "margin": null,
            "max_height": null,
            "max_width": null,
            "min_height": null,
            "min_width": null,
            "object_fit": null,
            "object_position": null,
            "order": null,
            "overflow": null,
            "overflow_x": null,
            "overflow_y": null,
            "padding": null,
            "right": null,
            "top": null,
            "visibility": null,
            "width": null
          }
        },
        "9135a2b325a740feb561cd07cc37f870": {
          "model_module": "@jupyter-widgets/controls",
          "model_name": "ProgressStyleModel",
          "model_module_version": "1.5.0",
          "state": {
            "_model_module": "@jupyter-widgets/controls",
            "_model_module_version": "1.5.0",
            "_model_name": "ProgressStyleModel",
            "_view_count": null,
            "_view_module": "@jupyter-widgets/base",
            "_view_module_version": "1.2.0",
            "_view_name": "StyleView",
            "bar_color": null,
            "description_width": ""
          }
        },
        "652c82d875a34b99b03944b00d92aba4": {
          "model_module": "@jupyter-widgets/base",
          "model_name": "LayoutModel",
          "model_module_version": "1.2.0",
          "state": {
            "_model_module": "@jupyter-widgets/base",
            "_model_module_version": "1.2.0",
            "_model_name": "LayoutModel",
            "_view_count": null,
            "_view_module": "@jupyter-widgets/base",
            "_view_module_version": "1.2.0",
            "_view_name": "LayoutView",
            "align_content": null,
            "align_items": null,
            "align_self": null,
            "border": null,
            "bottom": null,
            "display": null,
            "flex": null,
            "flex_flow": null,
            "grid_area": null,
            "grid_auto_columns": null,
            "grid_auto_flow": null,
            "grid_auto_rows": null,
            "grid_column": null,
            "grid_gap": null,
            "grid_row": null,
            "grid_template_areas": null,
            "grid_template_columns": null,
            "grid_template_rows": null,
            "height": null,
            "justify_content": null,
            "justify_items": null,
            "left": null,
            "margin": null,
            "max_height": null,
            "max_width": null,
            "min_height": null,
            "min_width": null,
            "object_fit": null,
            "object_position": null,
            "order": null,
            "overflow": null,
            "overflow_x": null,
            "overflow_y": null,
            "padding": null,
            "right": null,
            "top": null,
            "visibility": null,
            "width": null
          }
        },
        "b55b32873b66472e8e1b74ba81cec7bd": {
          "model_module": "@jupyter-widgets/controls",
          "model_name": "DescriptionStyleModel",
          "model_module_version": "1.5.0",
          "state": {
            "_model_module": "@jupyter-widgets/controls",
            "_model_module_version": "1.5.0",
            "_model_name": "DescriptionStyleModel",
            "_view_count": null,
            "_view_module": "@jupyter-widgets/base",
            "_view_module_version": "1.2.0",
            "_view_name": "StyleView",
            "description_width": ""
          }
        },
        "6a6b816fc80e47da9414aa77737ebb29": {
          "model_module": "@jupyter-widgets/controls",
          "model_name": "ButtonModel",
          "model_module_version": "1.5.0",
          "state": {
            "_dom_classes": [],
            "_model_module": "@jupyter-widgets/controls",
            "_model_module_version": "1.5.0",
            "_model_name": "ButtonModel",
            "_view_count": null,
            "_view_module": "@jupyter-widgets/controls",
            "_view_module_version": "1.5.0",
            "_view_name": "ButtonView",
            "button_style": "info",
            "description": "Compare the policies of the EU, US and IMO in regard to zero carbon shipping",
            "disabled": false,
            "icon": "",
            "layout": "IPY_MODEL_19bc14a8558142d598a8b7e2b469cfdc",
            "style": "IPY_MODEL_db0ea26e74364879bd450b145fef071a",
            "tooltip": "Click to insert an example question"
          }
        },
        "19bc14a8558142d598a8b7e2b469cfdc": {
          "model_module": "@jupyter-widgets/base",
          "model_name": "LayoutModel",
          "model_module_version": "1.2.0",
          "state": {
            "_model_module": "@jupyter-widgets/base",
            "_model_module_version": "1.2.0",
            "_model_name": "LayoutModel",
            "_view_count": null,
            "_view_module": "@jupyter-widgets/base",
            "_view_module_version": "1.2.0",
            "_view_name": "LayoutView",
            "align_content": null,
            "align_items": null,
            "align_self": null,
            "border": null,
            "bottom": null,
            "display": null,
            "flex": null,
            "flex_flow": null,
            "grid_area": null,
            "grid_auto_columns": null,
            "grid_auto_flow": null,
            "grid_auto_rows": null,
            "grid_column": null,
            "grid_gap": null,
            "grid_row": null,
            "grid_template_areas": null,
            "grid_template_columns": null,
            "grid_template_rows": null,
            "height": "40px",
            "justify_content": null,
            "justify_items": null,
            "left": null,
            "margin": null,
            "max_height": null,
            "max_width": null,
            "min_height": null,
            "min_width": null,
            "object_fit": null,
            "object_position": null,
            "order": null,
            "overflow": null,
            "overflow_x": null,
            "overflow_y": null,
            "padding": null,
            "right": null,
            "top": null,
            "visibility": null,
            "width": "70%"
          }
        },
        "db0ea26e74364879bd450b145fef071a": {
          "model_module": "@jupyter-widgets/controls",
          "model_name": "ButtonStyleModel",
          "model_module_version": "1.5.0",
          "state": {
            "_model_module": "@jupyter-widgets/controls",
            "_model_module_version": "1.5.0",
            "_model_name": "ButtonStyleModel",
            "_view_count": null,
            "_view_module": "@jupyter-widgets/base",
            "_view_module_version": "1.2.0",
            "_view_name": "StyleView",
            "button_color": null,
            "font_weight": ""
          }
        },
        "7c5281bfb512481da2efb8caa7ef0b48": {
          "model_module": "@jupyter-widgets/controls",
          "model_name": "ButtonModel",
          "model_module_version": "1.5.0",
          "state": {
            "_dom_classes": [],
            "_model_module": "@jupyter-widgets/controls",
            "_model_module_version": "1.5.0",
            "_model_name": "ButtonModel",
            "_view_count": null,
            "_view_module": "@jupyter-widgets/controls",
            "_view_module_version": "1.5.0",
            "_view_name": "ButtonView",
            "button_style": "info",
            "description": "What is the LCA methodology?",
            "disabled": false,
            "icon": "",
            "layout": "IPY_MODEL_563213047af149d5b4be20d9d4180380",
            "style": "IPY_MODEL_9956a384425a4517bae441de554ad397",
            "tooltip": "Click to insert an example question"
          }
        },
        "563213047af149d5b4be20d9d4180380": {
          "model_module": "@jupyter-widgets/base",
          "model_name": "LayoutModel",
          "model_module_version": "1.2.0",
          "state": {
            "_model_module": "@jupyter-widgets/base",
            "_model_module_version": "1.2.0",
            "_model_name": "LayoutModel",
            "_view_count": null,
            "_view_module": "@jupyter-widgets/base",
            "_view_module_version": "1.2.0",
            "_view_name": "LayoutView",
            "align_content": null,
            "align_items": null,
            "align_self": null,
            "border": null,
            "bottom": null,
            "display": null,
            "flex": null,
            "flex_flow": null,
            "grid_area": null,
            "grid_auto_columns": null,
            "grid_auto_flow": null,
            "grid_auto_rows": null,
            "grid_column": null,
            "grid_gap": null,
            "grid_row": null,
            "grid_template_areas": null,
            "grid_template_columns": null,
            "grid_template_rows": null,
            "height": "40px",
            "justify_content": null,
            "justify_items": null,
            "left": null,
            "margin": null,
            "max_height": null,
            "max_width": null,
            "min_height": null,
            "min_width": null,
            "object_fit": null,
            "object_position": null,
            "order": null,
            "overflow": null,
            "overflow_x": null,
            "overflow_y": null,
            "padding": null,
            "right": null,
            "top": null,
            "visibility": null,
            "width": "70%"
          }
        },
        "9956a384425a4517bae441de554ad397": {
          "model_module": "@jupyter-widgets/controls",
          "model_name": "ButtonStyleModel",
          "model_module_version": "1.5.0",
          "state": {
            "_model_module": "@jupyter-widgets/controls",
            "_model_module_version": "1.5.0",
            "_model_name": "ButtonStyleModel",
            "_view_count": null,
            "_view_module": "@jupyter-widgets/base",
            "_view_module_version": "1.2.0",
            "_view_name": "StyleView",
            "button_color": null,
            "font_weight": ""
          }
        },
        "1e538073139844c9bcedf004ae33c08e": {
          "model_module": "@jupyter-widgets/controls",
          "model_name": "TextModel",
          "model_module_version": "1.5.0",
          "state": {
            "_dom_classes": [],
            "_model_module": "@jupyter-widgets/controls",
            "_model_module_version": "1.5.0",
            "_model_name": "TextModel",
            "_view_count": null,
            "_view_module": "@jupyter-widgets/controls",
            "_view_module_version": "1.5.0",
            "_view_name": "TextView",
            "continuous_update": true,
            "description": "",
            "description_tooltip": null,
            "disabled": false,
            "layout": "IPY_MODEL_28cdec26f11d4baab25642cd5c9fff2c",
            "placeholder": "Du kan også skrive dit eget spørgsmål her...",
            "style": "IPY_MODEL_8e274cb86f414e95b47c8fe31039f124",
            "value": ""
          }
        },
        "28cdec26f11d4baab25642cd5c9fff2c": {
          "model_module": "@jupyter-widgets/base",
          "model_name": "LayoutModel",
          "model_module_version": "1.2.0",
          "state": {
            "_model_module": "@jupyter-widgets/base",
            "_model_module_version": "1.2.0",
            "_model_name": "LayoutModel",
            "_view_count": null,
            "_view_module": "@jupyter-widgets/base",
            "_view_module_version": "1.2.0",
            "_view_name": "LayoutView",
            "align_content": null,
            "align_items": null,
            "align_self": null,
            "border": null,
            "bottom": null,
            "display": null,
            "flex": null,
            "flex_flow": null,
            "grid_area": null,
            "grid_auto_columns": null,
            "grid_auto_flow": null,
            "grid_auto_rows": null,
            "grid_column": null,
            "grid_gap": null,
            "grid_row": null,
            "grid_template_areas": null,
            "grid_template_columns": null,
            "grid_template_rows": null,
            "height": "50px",
            "justify_content": null,
            "justify_items": null,
            "left": null,
            "margin": null,
            "max_height": null,
            "max_width": null,
            "min_height": null,
            "min_width": null,
            "object_fit": null,
            "object_position": null,
            "order": null,
            "overflow": null,
            "overflow_x": null,
            "overflow_y": null,
            "padding": null,
            "right": null,
            "top": null,
            "visibility": null,
            "width": "70%"
          }
        },
        "8e274cb86f414e95b47c8fe31039f124": {
          "model_module": "@jupyter-widgets/controls",
          "model_name": "DescriptionStyleModel",
          "model_module_version": "1.5.0",
          "state": {
            "_model_module": "@jupyter-widgets/controls",
            "_model_module_version": "1.5.0",
            "_model_name": "DescriptionStyleModel",
            "_view_count": null,
            "_view_module": "@jupyter-widgets/base",
            "_view_module_version": "1.2.0",
            "_view_name": "StyleView",
            "description_width": "initial"
          }
        },
        "5485219842ef41648b5024f5ff749684": {
          "model_module": "@jupyter-widgets/controls",
          "model_name": "ButtonModel",
          "model_module_version": "1.5.0",
          "state": {
            "_dom_classes": [],
            "_model_module": "@jupyter-widgets/controls",
            "_model_module_version": "1.5.0",
            "_model_name": "ButtonModel",
            "_view_count": null,
            "_view_module": "@jupyter-widgets/controls",
            "_view_module_version": "1.5.0",
            "_view_name": "ButtonView",
            "button_style": "success",
            "description": "Ask the MMMCZCS-Agent",
            "disabled": false,
            "icon": "",
            "layout": "IPY_MODEL_566a3b27df1a4b549960ad89bb7b9111",
            "style": "IPY_MODEL_7aabcc4ed9cf48b581330f0da8f50d3c",
            "tooltip": "Click to submit your question"
          }
        },
        "566a3b27df1a4b549960ad89bb7b9111": {
          "model_module": "@jupyter-widgets/base",
          "model_name": "LayoutModel",
          "model_module_version": "1.2.0",
          "state": {
            "_model_module": "@jupyter-widgets/base",
            "_model_module_version": "1.2.0",
            "_model_name": "LayoutModel",
            "_view_count": null,
            "_view_module": "@jupyter-widgets/base",
            "_view_module_version": "1.2.0",
            "_view_name": "LayoutView",
            "align_content": null,
            "align_items": null,
            "align_self": null,
            "border": null,
            "bottom": null,
            "display": null,
            "flex": null,
            "flex_flow": null,
            "grid_area": null,
            "grid_auto_columns": null,
            "grid_auto_flow": null,
            "grid_auto_rows": null,
            "grid_column": null,
            "grid_gap": null,
            "grid_row": null,
            "grid_template_areas": null,
            "grid_template_columns": null,
            "grid_template_rows": null,
            "height": "50px",
            "justify_content": null,
            "justify_items": null,
            "left": null,
            "margin": null,
            "max_height": null,
            "max_width": null,
            "min_height": null,
            "min_width": null,
            "object_fit": null,
            "object_position": null,
            "order": null,
            "overflow": null,
            "overflow_x": null,
            "overflow_y": null,
            "padding": null,
            "right": null,
            "top": null,
            "visibility": null,
            "width": "20%"
          }
        },
        "7aabcc4ed9cf48b581330f0da8f50d3c": {
          "model_module": "@jupyter-widgets/controls",
          "model_name": "ButtonStyleModel",
          "model_module_version": "1.5.0",
          "state": {
            "_model_module": "@jupyter-widgets/controls",
            "_model_module_version": "1.5.0",
            "_model_name": "ButtonStyleModel",
            "_view_count": null,
            "_view_module": "@jupyter-widgets/base",
            "_view_module_version": "1.2.0",
            "_view_name": "StyleView",
            "button_color": null,
            "font_weight": ""
          }
        },
        "f0b21be4e789493897bbd8f9005b6401": {
          "model_module": "@jupyter-widgets/controls",
          "model_name": "TextareaModel",
          "model_module_version": "1.5.0",
          "state": {
            "_dom_classes": [],
            "_model_module": "@jupyter-widgets/controls",
            "_model_module_version": "1.5.0",
            "_model_name": "TextareaModel",
            "_view_count": null,
            "_view_module": "@jupyter-widgets/controls",
            "_view_module_version": "1.5.0",
            "_view_name": "TextareaView",
            "continuous_update": true,
            "description": "",
            "description_tooltip": null,
            "disabled": true,
            "layout": "IPY_MODEL_f0b5b245517a426682120b53beb93fc9",
            "placeholder": "Type something",
            "rows": null,
            "style": "IPY_MODEL_24134222fa8c468d9c73c9e4f3b8f2d8",
            "value": "\nFølgende publications er benyttet: \n\n- Assessing impacts of EU and US policies on accelerated deployment of alternative maritime fuels \n\n- MMMCZCS LCA Methodology for Calculating the GHG Intensity of Maritime Fuels \n\n- Implications of the 2023 IMO GHG Strategy for the Shipping Industry"
          }
        },
        "f0b5b245517a426682120b53beb93fc9": {
          "model_module": "@jupyter-widgets/base",
          "model_name": "LayoutModel",
          "model_module_version": "1.2.0",
          "state": {
            "_model_module": "@jupyter-widgets/base",
            "_model_module_version": "1.2.0",
            "_model_name": "LayoutModel",
            "_view_count": null,
            "_view_module": "@jupyter-widgets/base",
            "_view_module_version": "1.2.0",
            "_view_name": "LayoutView",
            "align_content": null,
            "align_items": null,
            "align_self": null,
            "border": null,
            "bottom": null,
            "display": null,
            "flex": null,
            "flex_flow": null,
            "grid_area": null,
            "grid_auto_columns": null,
            "grid_auto_flow": null,
            "grid_auto_rows": null,
            "grid_column": null,
            "grid_gap": null,
            "grid_row": null,
            "grid_template_areas": null,
            "grid_template_columns": null,
            "grid_template_rows": null,
            "height": "140px",
            "justify_content": null,
            "justify_items": null,
            "left": null,
            "margin": null,
            "max_height": null,
            "max_width": null,
            "min_height": null,
            "min_width": null,
            "object_fit": null,
            "object_position": null,
            "order": null,
            "overflow": null,
            "overflow_x": null,
            "overflow_y": null,
            "padding": null,
            "right": null,
            "top": null,
            "visibility": null,
            "width": "1000%"
          }
        },
        "24134222fa8c468d9c73c9e4f3b8f2d8": {
          "model_module": "@jupyter-widgets/controls",
          "model_name": "DescriptionStyleModel",
          "model_module_version": "1.5.0",
          "state": {
            "_model_module": "@jupyter-widgets/controls",
            "_model_module_version": "1.5.0",
            "_model_name": "DescriptionStyleModel",
            "_view_count": null,
            "_view_module": "@jupyter-widgets/base",
            "_view_module_version": "1.2.0",
            "_view_name": "StyleView",
            "description_width": ""
          }
        },
        "66d05427cc7d4f7ea4c7fa8ca7ef5099": {
          "model_module": "@jupyter-widgets/output",
          "model_name": "OutputModel",
          "model_module_version": "1.0.0",
          "state": {
            "_dom_classes": [],
            "_model_module": "@jupyter-widgets/output",
            "_model_module_version": "1.0.0",
            "_model_name": "OutputModel",
            "_view_count": null,
            "_view_module": "@jupyter-widgets/output",
            "_view_module_version": "1.0.0",
            "_view_name": "OutputView",
            "layout": "IPY_MODEL_ffc3535f33c14829915e9f61d1259833",
            "msg_id": "",
            "outputs": []
          }
        },
        "ffc3535f33c14829915e9f61d1259833": {
          "model_module": "@jupyter-widgets/base",
          "model_name": "LayoutModel",
          "model_module_version": "1.2.0",
          "state": {
            "_model_module": "@jupyter-widgets/base",
            "_model_module_version": "1.2.0",
            "_model_name": "LayoutModel",
            "_view_count": null,
            "_view_module": "@jupyter-widgets/base",
            "_view_module_version": "1.2.0",
            "_view_name": "LayoutView",
            "align_content": null,
            "align_items": null,
            "align_self": null,
            "border": null,
            "bottom": null,
            "display": null,
            "flex": null,
            "flex_flow": null,
            "grid_area": null,
            "grid_auto_columns": null,
            "grid_auto_flow": null,
            "grid_auto_rows": null,
            "grid_column": null,
            "grid_gap": null,
            "grid_row": null,
            "grid_template_areas": null,
            "grid_template_columns": null,
            "grid_template_rows": null,
            "height": null,
            "justify_content": null,
            "justify_items": null,
            "left": null,
            "margin": null,
            "max_height": null,
            "max_width": null,
            "min_height": null,
            "min_width": null,
            "object_fit": null,
            "object_position": null,
            "order": null,
            "overflow": null,
            "overflow_x": null,
            "overflow_y": null,
            "padding": null,
            "right": null,
            "top": null,
            "visibility": null,
            "width": null
          }
        }
      }
    }
  },
  "nbformat": 4,
  "nbformat_minor": 5
}